{
 "cells": [
  {
   "cell_type": "markdown",
   "id": "48cf5d45",
   "metadata": {},
   "source": [
    "# EDA on Titanic Data"
   ]
  },
  {
   "cell_type": "code",
   "execution_count": 1,
   "id": "4741eaea",
   "metadata": {},
   "outputs": [],
   "source": [
    "import numpy as np\n",
    "import pandas as pd\n",
    "import matplotlib.pyplot as plt\n",
    "import seaborn as sns\n"
   ]
  },
  {
   "cell_type": "code",
   "execution_count": 2,
   "id": "0a10ce13",
   "metadata": {},
   "outputs": [
    {
     "ename": "FileNotFoundError",
     "evalue": "[Errno 2] No such file or directory: 'train_titanic - Copy.csv'",
     "output_type": "error",
     "traceback": [
      "\u001b[1;31m---------------------------------------------------------------------------\u001b[0m",
      "\u001b[1;31mFileNotFoundError\u001b[0m                         Traceback (most recent call last)",
      "Input \u001b[1;32mIn [2]\u001b[0m, in \u001b[0;36m<cell line: 1>\u001b[1;34m()\u001b[0m\n\u001b[1;32m----> 1\u001b[0m train_data \u001b[38;5;241m=\u001b[39m \u001b[43mpd\u001b[49m\u001b[38;5;241;43m.\u001b[39;49m\u001b[43mread_csv\u001b[49m\u001b[43m(\u001b[49m\u001b[38;5;124;43m\"\u001b[39;49m\u001b[38;5;124;43mtrain_titanic - Copy.csv\u001b[39;49m\u001b[38;5;124;43m\"\u001b[39;49m\u001b[43m)\u001b[49m\n",
      "File \u001b[1;32m~\\AppData\\Local\\Programs\\Python\\Python310\\lib\\site-packages\\pandas\\util\\_decorators.py:311\u001b[0m, in \u001b[0;36mdeprecate_nonkeyword_arguments.<locals>.decorate.<locals>.wrapper\u001b[1;34m(*args, **kwargs)\u001b[0m\n\u001b[0;32m    305\u001b[0m \u001b[38;5;28;01mif\u001b[39;00m \u001b[38;5;28mlen\u001b[39m(args) \u001b[38;5;241m>\u001b[39m num_allow_args:\n\u001b[0;32m    306\u001b[0m     warnings\u001b[38;5;241m.\u001b[39mwarn(\n\u001b[0;32m    307\u001b[0m         msg\u001b[38;5;241m.\u001b[39mformat(arguments\u001b[38;5;241m=\u001b[39marguments),\n\u001b[0;32m    308\u001b[0m         \u001b[38;5;167;01mFutureWarning\u001b[39;00m,\n\u001b[0;32m    309\u001b[0m         stacklevel\u001b[38;5;241m=\u001b[39mstacklevel,\n\u001b[0;32m    310\u001b[0m     )\n\u001b[1;32m--> 311\u001b[0m \u001b[38;5;28;01mreturn\u001b[39;00m func(\u001b[38;5;241m*\u001b[39margs, \u001b[38;5;241m*\u001b[39m\u001b[38;5;241m*\u001b[39mkwargs)\n",
      "File \u001b[1;32m~\\AppData\\Local\\Programs\\Python\\Python310\\lib\\site-packages\\pandas\\io\\parsers\\readers.py:680\u001b[0m, in \u001b[0;36mread_csv\u001b[1;34m(filepath_or_buffer, sep, delimiter, header, names, index_col, usecols, squeeze, prefix, mangle_dupe_cols, dtype, engine, converters, true_values, false_values, skipinitialspace, skiprows, skipfooter, nrows, na_values, keep_default_na, na_filter, verbose, skip_blank_lines, parse_dates, infer_datetime_format, keep_date_col, date_parser, dayfirst, cache_dates, iterator, chunksize, compression, thousands, decimal, lineterminator, quotechar, quoting, doublequote, escapechar, comment, encoding, encoding_errors, dialect, error_bad_lines, warn_bad_lines, on_bad_lines, delim_whitespace, low_memory, memory_map, float_precision, storage_options)\u001b[0m\n\u001b[0;32m    665\u001b[0m kwds_defaults \u001b[38;5;241m=\u001b[39m _refine_defaults_read(\n\u001b[0;32m    666\u001b[0m     dialect,\n\u001b[0;32m    667\u001b[0m     delimiter,\n\u001b[1;32m   (...)\u001b[0m\n\u001b[0;32m    676\u001b[0m     defaults\u001b[38;5;241m=\u001b[39m{\u001b[38;5;124m\"\u001b[39m\u001b[38;5;124mdelimiter\u001b[39m\u001b[38;5;124m\"\u001b[39m: \u001b[38;5;124m\"\u001b[39m\u001b[38;5;124m,\u001b[39m\u001b[38;5;124m\"\u001b[39m},\n\u001b[0;32m    677\u001b[0m )\n\u001b[0;32m    678\u001b[0m kwds\u001b[38;5;241m.\u001b[39mupdate(kwds_defaults)\n\u001b[1;32m--> 680\u001b[0m \u001b[38;5;28;01mreturn\u001b[39;00m \u001b[43m_read\u001b[49m\u001b[43m(\u001b[49m\u001b[43mfilepath_or_buffer\u001b[49m\u001b[43m,\u001b[49m\u001b[43m \u001b[49m\u001b[43mkwds\u001b[49m\u001b[43m)\u001b[49m\n",
      "File \u001b[1;32m~\\AppData\\Local\\Programs\\Python\\Python310\\lib\\site-packages\\pandas\\io\\parsers\\readers.py:575\u001b[0m, in \u001b[0;36m_read\u001b[1;34m(filepath_or_buffer, kwds)\u001b[0m\n\u001b[0;32m    572\u001b[0m _validate_names(kwds\u001b[38;5;241m.\u001b[39mget(\u001b[38;5;124m\"\u001b[39m\u001b[38;5;124mnames\u001b[39m\u001b[38;5;124m\"\u001b[39m, \u001b[38;5;28;01mNone\u001b[39;00m))\n\u001b[0;32m    574\u001b[0m \u001b[38;5;66;03m# Create the parser.\u001b[39;00m\n\u001b[1;32m--> 575\u001b[0m parser \u001b[38;5;241m=\u001b[39m TextFileReader(filepath_or_buffer, \u001b[38;5;241m*\u001b[39m\u001b[38;5;241m*\u001b[39mkwds)\n\u001b[0;32m    577\u001b[0m \u001b[38;5;28;01mif\u001b[39;00m chunksize \u001b[38;5;129;01mor\u001b[39;00m iterator:\n\u001b[0;32m    578\u001b[0m     \u001b[38;5;28;01mreturn\u001b[39;00m parser\n",
      "File \u001b[1;32m~\\AppData\\Local\\Programs\\Python\\Python310\\lib\\site-packages\\pandas\\io\\parsers\\readers.py:933\u001b[0m, in \u001b[0;36mTextFileReader.__init__\u001b[1;34m(self, f, engine, **kwds)\u001b[0m\n\u001b[0;32m    930\u001b[0m     \u001b[38;5;28mself\u001b[39m\u001b[38;5;241m.\u001b[39moptions[\u001b[38;5;124m\"\u001b[39m\u001b[38;5;124mhas_index_names\u001b[39m\u001b[38;5;124m\"\u001b[39m] \u001b[38;5;241m=\u001b[39m kwds[\u001b[38;5;124m\"\u001b[39m\u001b[38;5;124mhas_index_names\u001b[39m\u001b[38;5;124m\"\u001b[39m]\n\u001b[0;32m    932\u001b[0m \u001b[38;5;28mself\u001b[39m\u001b[38;5;241m.\u001b[39mhandles: IOHandles \u001b[38;5;241m|\u001b[39m \u001b[38;5;28;01mNone\u001b[39;00m \u001b[38;5;241m=\u001b[39m \u001b[38;5;28;01mNone\u001b[39;00m\n\u001b[1;32m--> 933\u001b[0m \u001b[38;5;28mself\u001b[39m\u001b[38;5;241m.\u001b[39m_engine \u001b[38;5;241m=\u001b[39m \u001b[38;5;28;43mself\u001b[39;49m\u001b[38;5;241;43m.\u001b[39;49m\u001b[43m_make_engine\u001b[49m\u001b[43m(\u001b[49m\u001b[43mf\u001b[49m\u001b[43m,\u001b[49m\u001b[43m \u001b[49m\u001b[38;5;28;43mself\u001b[39;49m\u001b[38;5;241;43m.\u001b[39;49m\u001b[43mengine\u001b[49m\u001b[43m)\u001b[49m\n",
      "File \u001b[1;32m~\\AppData\\Local\\Programs\\Python\\Python310\\lib\\site-packages\\pandas\\io\\parsers\\readers.py:1217\u001b[0m, in \u001b[0;36mTextFileReader._make_engine\u001b[1;34m(self, f, engine)\u001b[0m\n\u001b[0;32m   1213\u001b[0m     mode \u001b[38;5;241m=\u001b[39m \u001b[38;5;124m\"\u001b[39m\u001b[38;5;124mrb\u001b[39m\u001b[38;5;124m\"\u001b[39m\n\u001b[0;32m   1214\u001b[0m \u001b[38;5;66;03m# error: No overload variant of \"get_handle\" matches argument types\u001b[39;00m\n\u001b[0;32m   1215\u001b[0m \u001b[38;5;66;03m# \"Union[str, PathLike[str], ReadCsvBuffer[bytes], ReadCsvBuffer[str]]\"\u001b[39;00m\n\u001b[0;32m   1216\u001b[0m \u001b[38;5;66;03m# , \"str\", \"bool\", \"Any\", \"Any\", \"Any\", \"Any\", \"Any\"\u001b[39;00m\n\u001b[1;32m-> 1217\u001b[0m \u001b[38;5;28mself\u001b[39m\u001b[38;5;241m.\u001b[39mhandles \u001b[38;5;241m=\u001b[39m \u001b[43mget_handle\u001b[49m\u001b[43m(\u001b[49m\u001b[43m  \u001b[49m\u001b[38;5;66;43;03m# type: ignore[call-overload]\u001b[39;49;00m\n\u001b[0;32m   1218\u001b[0m \u001b[43m    \u001b[49m\u001b[43mf\u001b[49m\u001b[43m,\u001b[49m\n\u001b[0;32m   1219\u001b[0m \u001b[43m    \u001b[49m\u001b[43mmode\u001b[49m\u001b[43m,\u001b[49m\n\u001b[0;32m   1220\u001b[0m \u001b[43m    \u001b[49m\u001b[43mencoding\u001b[49m\u001b[38;5;241;43m=\u001b[39;49m\u001b[38;5;28;43mself\u001b[39;49m\u001b[38;5;241;43m.\u001b[39;49m\u001b[43moptions\u001b[49m\u001b[38;5;241;43m.\u001b[39;49m\u001b[43mget\u001b[49m\u001b[43m(\u001b[49m\u001b[38;5;124;43m\"\u001b[39;49m\u001b[38;5;124;43mencoding\u001b[39;49m\u001b[38;5;124;43m\"\u001b[39;49m\u001b[43m,\u001b[49m\u001b[43m \u001b[49m\u001b[38;5;28;43;01mNone\u001b[39;49;00m\u001b[43m)\u001b[49m\u001b[43m,\u001b[49m\n\u001b[0;32m   1221\u001b[0m \u001b[43m    \u001b[49m\u001b[43mcompression\u001b[49m\u001b[38;5;241;43m=\u001b[39;49m\u001b[38;5;28;43mself\u001b[39;49m\u001b[38;5;241;43m.\u001b[39;49m\u001b[43moptions\u001b[49m\u001b[38;5;241;43m.\u001b[39;49m\u001b[43mget\u001b[49m\u001b[43m(\u001b[49m\u001b[38;5;124;43m\"\u001b[39;49m\u001b[38;5;124;43mcompression\u001b[39;49m\u001b[38;5;124;43m\"\u001b[39;49m\u001b[43m,\u001b[49m\u001b[43m \u001b[49m\u001b[38;5;28;43;01mNone\u001b[39;49;00m\u001b[43m)\u001b[49m\u001b[43m,\u001b[49m\n\u001b[0;32m   1222\u001b[0m \u001b[43m    \u001b[49m\u001b[43mmemory_map\u001b[49m\u001b[38;5;241;43m=\u001b[39;49m\u001b[38;5;28;43mself\u001b[39;49m\u001b[38;5;241;43m.\u001b[39;49m\u001b[43moptions\u001b[49m\u001b[38;5;241;43m.\u001b[39;49m\u001b[43mget\u001b[49m\u001b[43m(\u001b[49m\u001b[38;5;124;43m\"\u001b[39;49m\u001b[38;5;124;43mmemory_map\u001b[39;49m\u001b[38;5;124;43m\"\u001b[39;49m\u001b[43m,\u001b[49m\u001b[43m \u001b[49m\u001b[38;5;28;43;01mFalse\u001b[39;49;00m\u001b[43m)\u001b[49m\u001b[43m,\u001b[49m\n\u001b[0;32m   1223\u001b[0m \u001b[43m    \u001b[49m\u001b[43mis_text\u001b[49m\u001b[38;5;241;43m=\u001b[39;49m\u001b[43mis_text\u001b[49m\u001b[43m,\u001b[49m\n\u001b[0;32m   1224\u001b[0m \u001b[43m    \u001b[49m\u001b[43merrors\u001b[49m\u001b[38;5;241;43m=\u001b[39;49m\u001b[38;5;28;43mself\u001b[39;49m\u001b[38;5;241;43m.\u001b[39;49m\u001b[43moptions\u001b[49m\u001b[38;5;241;43m.\u001b[39;49m\u001b[43mget\u001b[49m\u001b[43m(\u001b[49m\u001b[38;5;124;43m\"\u001b[39;49m\u001b[38;5;124;43mencoding_errors\u001b[39;49m\u001b[38;5;124;43m\"\u001b[39;49m\u001b[43m,\u001b[49m\u001b[43m \u001b[49m\u001b[38;5;124;43m\"\u001b[39;49m\u001b[38;5;124;43mstrict\u001b[39;49m\u001b[38;5;124;43m\"\u001b[39;49m\u001b[43m)\u001b[49m\u001b[43m,\u001b[49m\n\u001b[0;32m   1225\u001b[0m \u001b[43m    \u001b[49m\u001b[43mstorage_options\u001b[49m\u001b[38;5;241;43m=\u001b[39;49m\u001b[38;5;28;43mself\u001b[39;49m\u001b[38;5;241;43m.\u001b[39;49m\u001b[43moptions\u001b[49m\u001b[38;5;241;43m.\u001b[39;49m\u001b[43mget\u001b[49m\u001b[43m(\u001b[49m\u001b[38;5;124;43m\"\u001b[39;49m\u001b[38;5;124;43mstorage_options\u001b[39;49m\u001b[38;5;124;43m\"\u001b[39;49m\u001b[43m,\u001b[49m\u001b[43m \u001b[49m\u001b[38;5;28;43;01mNone\u001b[39;49;00m\u001b[43m)\u001b[49m\u001b[43m,\u001b[49m\n\u001b[0;32m   1226\u001b[0m \u001b[43m\u001b[49m\u001b[43m)\u001b[49m\n\u001b[0;32m   1227\u001b[0m \u001b[38;5;28;01massert\u001b[39;00m \u001b[38;5;28mself\u001b[39m\u001b[38;5;241m.\u001b[39mhandles \u001b[38;5;129;01mis\u001b[39;00m \u001b[38;5;129;01mnot\u001b[39;00m \u001b[38;5;28;01mNone\u001b[39;00m\n\u001b[0;32m   1228\u001b[0m f \u001b[38;5;241m=\u001b[39m \u001b[38;5;28mself\u001b[39m\u001b[38;5;241m.\u001b[39mhandles\u001b[38;5;241m.\u001b[39mhandle\n",
      "File \u001b[1;32m~\\AppData\\Local\\Programs\\Python\\Python310\\lib\\site-packages\\pandas\\io\\common.py:789\u001b[0m, in \u001b[0;36mget_handle\u001b[1;34m(path_or_buf, mode, encoding, compression, memory_map, is_text, errors, storage_options)\u001b[0m\n\u001b[0;32m    784\u001b[0m \u001b[38;5;28;01melif\u001b[39;00m \u001b[38;5;28misinstance\u001b[39m(handle, \u001b[38;5;28mstr\u001b[39m):\n\u001b[0;32m    785\u001b[0m     \u001b[38;5;66;03m# Check whether the filename is to be opened in binary mode.\u001b[39;00m\n\u001b[0;32m    786\u001b[0m     \u001b[38;5;66;03m# Binary mode does not support 'encoding' and 'newline'.\u001b[39;00m\n\u001b[0;32m    787\u001b[0m     \u001b[38;5;28;01mif\u001b[39;00m ioargs\u001b[38;5;241m.\u001b[39mencoding \u001b[38;5;129;01mand\u001b[39;00m \u001b[38;5;124m\"\u001b[39m\u001b[38;5;124mb\u001b[39m\u001b[38;5;124m\"\u001b[39m \u001b[38;5;129;01mnot\u001b[39;00m \u001b[38;5;129;01min\u001b[39;00m ioargs\u001b[38;5;241m.\u001b[39mmode:\n\u001b[0;32m    788\u001b[0m         \u001b[38;5;66;03m# Encoding\u001b[39;00m\n\u001b[1;32m--> 789\u001b[0m         handle \u001b[38;5;241m=\u001b[39m \u001b[38;5;28;43mopen\u001b[39;49m\u001b[43m(\u001b[49m\n\u001b[0;32m    790\u001b[0m \u001b[43m            \u001b[49m\u001b[43mhandle\u001b[49m\u001b[43m,\u001b[49m\n\u001b[0;32m    791\u001b[0m \u001b[43m            \u001b[49m\u001b[43mioargs\u001b[49m\u001b[38;5;241;43m.\u001b[39;49m\u001b[43mmode\u001b[49m\u001b[43m,\u001b[49m\n\u001b[0;32m    792\u001b[0m \u001b[43m            \u001b[49m\u001b[43mencoding\u001b[49m\u001b[38;5;241;43m=\u001b[39;49m\u001b[43mioargs\u001b[49m\u001b[38;5;241;43m.\u001b[39;49m\u001b[43mencoding\u001b[49m\u001b[43m,\u001b[49m\n\u001b[0;32m    793\u001b[0m \u001b[43m            \u001b[49m\u001b[43merrors\u001b[49m\u001b[38;5;241;43m=\u001b[39;49m\u001b[43merrors\u001b[49m\u001b[43m,\u001b[49m\n\u001b[0;32m    794\u001b[0m \u001b[43m            \u001b[49m\u001b[43mnewline\u001b[49m\u001b[38;5;241;43m=\u001b[39;49m\u001b[38;5;124;43m\"\u001b[39;49m\u001b[38;5;124;43m\"\u001b[39;49m\u001b[43m,\u001b[49m\n\u001b[0;32m    795\u001b[0m \u001b[43m        \u001b[49m\u001b[43m)\u001b[49m\n\u001b[0;32m    796\u001b[0m     \u001b[38;5;28;01melse\u001b[39;00m:\n\u001b[0;32m    797\u001b[0m         \u001b[38;5;66;03m# Binary mode\u001b[39;00m\n\u001b[0;32m    798\u001b[0m         handle \u001b[38;5;241m=\u001b[39m \u001b[38;5;28mopen\u001b[39m(handle, ioargs\u001b[38;5;241m.\u001b[39mmode)\n",
      "\u001b[1;31mFileNotFoundError\u001b[0m: [Errno 2] No such file or directory: 'train_titanic - Copy.csv'"
     ]
    }
   ],
   "source": [
    "train_data = pd.read_csv(\"train_titanic - Copy.csv\")"
   ]
  },
  {
   "cell_type": "code",
   "execution_count": null,
   "id": "78ba6fd3",
   "metadata": {},
   "outputs": [],
   "source": [
    "train_data.head(30)"
   ]
  },
  {
   "cell_type": "code",
   "execution_count": null,
   "id": "ce790b42",
   "metadata": {},
   "outputs": [],
   "source": [
    "train_data.shape"
   ]
  },
  {
   "cell_type": "code",
   "execution_count": null,
   "id": "577de330",
   "metadata": {},
   "outputs": [],
   "source": [
    "train_data[\"Embarked\"].value_counts()"
   ]
  },
  {
   "cell_type": "code",
   "execution_count": null,
   "id": "212a707e",
   "metadata": {},
   "outputs": [],
   "source": [
    "train_data.isnull().sum()"
   ]
  },
  {
   "cell_type": "code",
   "execution_count": null,
   "id": "742b81de",
   "metadata": {},
   "outputs": [],
   "source": [
    "train_data.describe()"
   ]
  },
  {
   "cell_type": "markdown",
   "id": "99fca7a0",
   "metadata": {},
   "source": [
    "# Univariant analysis for \"Survived\""
   ]
  },
  {
   "cell_type": "code",
   "execution_count": null,
   "id": "8cd4eea4",
   "metadata": {},
   "outputs": [],
   "source": [
    "sns.countplot(x = \"Survived\", data = train_data)\n",
    "plt.show()"
   ]
  },
  {
   "cell_type": "code",
   "execution_count": null,
   "id": "19345c26",
   "metadata": {},
   "outputs": [],
   "source": [
    "survived_passenger = len(train_data.Survived[train_data.Survived == 1])\n",
    "dead_passenger = len(train_data) - survived_passenger\n",
    "print(\"dead_passenger:\",dead_passenger)\n",
    "print(\"survived_people:\",survived_passenger)"
   ]
  },
  {
   "cell_type": "code",
   "execution_count": null,
   "id": "9535c84c",
   "metadata": {},
   "outputs": [],
   "source": [
    "print(\"% of people survived: \", round((survived_passenger/len(train_data))*100, 2),\"%\")\n",
    "print(\"% of people Dead:\",round((dead_passenger/len(train_data))*100, 2), \"%\" )"
   ]
  },
  {
   "cell_type": "code",
   "execution_count": null,
   "id": "6705a8c7",
   "metadata": {},
   "outputs": [],
   "source": [
    "exp_values = [survived_passenger, dead_passenger]\n",
    "exp_labels = [\"Survived \", \"Dead\"]\n",
    "plt.pie(exp_values, labels = exp_labels, autopct = \"%.2f%%\", shadow = True);"
   ]
  },
  {
   "cell_type": "code",
   "execution_count": null,
   "id": "51785076",
   "metadata": {},
   "outputs": [],
   "source": [
    "pd.crosstab(train_data.Sex, train_data.Survived, margins = True)"
   ]
  },
  {
   "cell_type": "markdown",
   "id": "3c533b46",
   "metadata": {},
   "source": [
    "# Gender:Survived Vs Dead"
   ]
  },
  {
   "cell_type": "code",
   "execution_count": null,
   "id": "454a2163",
   "metadata": {},
   "outputs": [],
   "source": [
    "sns.countplot(x = \"Sex\", hue = \"Survived\", data = train_data)"
   ]
  },
  {
   "cell_type": "code",
   "execution_count": null,
   "id": "e2ebf1d9",
   "metadata": {},
   "outputs": [],
   "source": [
    "male_survivor = len(train_data[(train_data.Sex == \"male\") & (train_data.Survived == 1)] )\n",
    "print(\"male_survivor:\",male_survivor)\n",
    "\n",
    "female_survivor = len(train_data[(train_data.Sex ==\"female\") & (train_data.Survived == 1)])\n",
    "print(\"female_survivor:\",female_survivor)\n",
    "\n",
    "total_passenger_male= len(train_data.Sex[train_data.Sex == \"male\"])\n",
    "print(\"toal_passenger_male\", total_passenger_male)\n",
    "\n",
    "total_passenger_female = len(train_data.Sex[train_data.Sex == \"female\"])\n",
    "print(\"toal_passenger_female\", total_passenger_female)\n",
    "\n",
    "percentage_male_survived = round((male_survivor/total_passenger_male)*100, 2)\n",
    "percentage_female_survived = round((female_survivor/total_passenger_female)*100, 2)\n",
    "\n",
    "print(\"% of male survived:\",percentage_female_survived)\n",
    "print(\"% of female Survived:\",percentage_female_survived )\n",
    "\n",
    "    "
   ]
  },
  {
   "cell_type": "markdown",
   "id": "cdc9c852",
   "metadata": {},
   "source": [
    "# Pclass:Survived Vs Dead"
   ]
  },
  {
   "cell_type": "code",
   "execution_count": null,
   "id": "b270b6b1",
   "metadata": {},
   "outputs": [],
   "source": [
    "sns.countplot(x = \"Pclass\", hue = \"Survived\", data = train_data)\n",
    "plt.title(\"Pclass:Survived Vs Dead\")\n",
    "plt.show()"
   ]
  },
  {
   "cell_type": "code",
   "execution_count": null,
   "id": "df108255",
   "metadata": {},
   "outputs": [],
   "source": [
    "pd.crosstab(train_data.Pclass, train_data.Survived, margins = True)"
   ]
  },
  {
   "cell_type": "code",
   "execution_count": null,
   "id": "123fd080",
   "metadata": {},
   "outputs": [],
   "source": [
    "print(\"% of people survived in 1st class ticket:\", round((136/216)*100, 2), (\"%\"))\n",
    "print(\"% of people survived in 2nd class ticket:\", round((87/184)*100, 2) , (\"%\"))\n",
    "print(\"% of people survived in 3rd class ticket:\", round((119/491)*100, 2), (\"%\"))\n"
   ]
  },
  {
   "cell_type": "code",
   "execution_count": null,
   "id": "37beb541",
   "metadata": {},
   "outputs": [],
   "source": [
    "pd.crosstab([train_data.Sex, train_data.Pclass], train_data.Survived, margins = True).style.background_gradient(cmap = \"summer_r\")"
   ]
  },
  {
   "cell_type": "code",
   "execution_count": null,
   "id": "be20bd4d",
   "metadata": {},
   "outputs": [],
   "source": [
    "cross_table = pd.crosstab([train_data.Sex, train_data.Pclass], train_data.Survived, normalize = \"index\")*100\n",
    "\n",
    "cross_table_percentage = cross_table.applymap(\"{:.1f}%\".format)\n",
    "\n",
    "cross_table_style = cross_table_percentage.style\n",
    "\n",
    "cross_table_style\n"
   ]
  },
  {
   "cell_type": "markdown",
   "id": "f1ec20b2",
   "metadata": {},
   "source": [
    "# Survival Rate for Titanic passengers in different class based on Gender\n",
    "\n",
    "* 96.8 % female and 36% male survived in 1st class \n",
    "* 92.1 % female and 15.7% male survived in 2nd class \n",
    "* 50.0 % female and 13.5% male survived in 3rd class \n",
    "\n"
   ]
  },
  {
   "cell_type": "code",
   "execution_count": null,
   "id": "7f494f8c",
   "metadata": {},
   "outputs": [],
   "source": [
    "sns.catplot(x = \"Pclass\", y = \"Survived\", hue = \"Sex\", data = train_data, kind = \"point\")"
   ]
  },
  {
   "cell_type": "code",
   "execution_count": null,
   "id": "d17dddbf",
   "metadata": {},
   "outputs": [],
   "source": [
    "print(\"Age of oldest person survived:\",train_data[train_data.Survived == 1][\"Age\"].max(),\"years old\")\n",
    "print(\"Age of the youngest person survived:\",train_data[train_data.Survived == 1][\"Age\"].min(),\"years old\")\n",
    "print(\"Average age of the person who survived:\",round(train_data[train_data.Survived ==1][\"Age\"].mean(),2), \"years old\")"
   ]
  },
  {
   "cell_type": "code",
   "execution_count": null,
   "id": "5dc7174d",
   "metadata": {},
   "outputs": [],
   "source": [
    "fig, axes = plt.subplots(1,2,figsize = (20,10))\n",
    "\n",
    "sns.violinplot(x = \"Pclass\", y = \"Age\", hue = \"Survived\", data = train_data, split = True, ax = axes[0]);\n",
    "axes[0].set_title(\"Pclass and Age Vs Survived\")\n",
    "axes[0].set_yticks(range(0,110,10));\n",
    "\n",
    "sns.violinplot(x = \"Sex\", y = \"Age\", hue = \"Survived\", data = train_data, split = True, ax = axes[1]);\n",
    "axes[1].set_title(\"sex and age Vs Survived\")\n",
    "axes[1].set_yticks(range(0,110,10));\n",
    "\n",
    "\n",
    "\n",
    "\n",
    "\n",
    "\n"
   ]
  },
  {
   "cell_type": "markdown",
   "id": "f7b53dd2",
   "metadata": {},
   "source": [
    "\n",
    "\n",
    "\n",
    "\n",
    "\n"
   ]
  },
  {
   "cell_type": "markdown",
   "id": "f5bf00e2",
   "metadata": {},
   "source": [
    "==========================================================="
   ]
  },
  {
   "cell_type": "markdown",
   "id": "deebc08b",
   "metadata": {},
   "source": [
    "==============================================================="
   ]
  },
  {
   "cell_type": "markdown",
   "id": "6d5c2db5",
   "metadata": {},
   "source": [
    "# Next we filling the missing values of Age"
   ]
  },
  {
   "cell_type": "code",
   "execution_count": null,
   "id": "d8882846",
   "metadata": {},
   "outputs": [],
   "source": [
    "train_data[\"Initial\"] = 0\n",
    "for i in train_data.index:\n",
    "    train_data[\"Initial\"] = train_data.Name.str.extract(\"([A-Za-z]+)\\.\")"
   ]
  },
  {
   "cell_type": "code",
   "execution_count": null,
   "id": "517ee34f",
   "metadata": {},
   "outputs": [],
   "source": [
    "pd.crosstab(train_data.Initial, train_data.Sex).T.style.background_gradient(cmap = \"summer_r\")"
   ]
  },
  {
   "cell_type": "code",
   "execution_count": null,
   "id": "2e636bb0",
   "metadata": {},
   "outputs": [],
   "source": [
    "train_data"
   ]
  },
  {
   "cell_type": "code",
   "execution_count": null,
   "id": "d8624549",
   "metadata": {},
   "outputs": [],
   "source": [
    "train_data.Initial.unique()"
   ]
  },
  {
   "cell_type": "code",
   "execution_count": null,
   "id": "7f099dd1",
   "metadata": {},
   "outputs": [],
   "source": [
    "train_data.Initial.replace([\"Mlle\",\"Mme\",\"Ms\",\"Dr\",\"Major\",\"Lady\",\"Countess\",\"Jonkheer\",\"Col\",\"Rev\",\"Capt\",\"Sir\",\"Don\"],\n",
    "                           [\"Miss\",\"Miss\",\"Miss\",\"Mr\",\"Mr\",\"Mrs\",\"Mrs\",\"Other\",\"Other\",\"Other\",\"Mr\",\"Mr\",\"Mr\"], inplace = True)"
   ]
  },
  {
   "cell_type": "code",
   "execution_count": null,
   "id": "2cdb9d81",
   "metadata": {},
   "outputs": [],
   "source": [
    "train_data.Initial.unique()"
   ]
  },
  {
   "cell_type": "code",
   "execution_count": null,
   "id": "940743c9",
   "metadata": {},
   "outputs": [],
   "source": [
    "train_data.groupby(\"Initial\")[\"Age\"].mean()"
   ]
  },
  {
   "cell_type": "code",
   "execution_count": null,
   "id": "cc96d540",
   "metadata": {},
   "outputs": [],
   "source": [
    "train_data.loc[(train_data.Age.isnull()) & (train_data.Initial == \"Master\"), \"Age\"] = 5\n",
    "train_data[(train_data.Initial == \"Master\") & (train_data.Age == 5)][[\"Initial\",\"Age\"]]     # this line is just to check if the Age for missing master age were replace with 5 ?"
   ]
  },
  {
   "cell_type": "code",
   "execution_count": null,
   "id": "29a8f1b4",
   "metadata": {},
   "outputs": [],
   "source": [
    "train_data.loc[(train_data.Age.isnull()) & (train_data.Initial == \"Miss\"), \"Age\"] = 22\n",
    "train_data.loc[(train_data.Age.isnull()) & (train_data.Initial == \"Mr\"), \"Age\"] = 33\n",
    "train_data.loc[(train_data.Age.isnull()) & (train_data.Initial == \"Mrs\"), \"Age\"] = 36\n",
    "train_data.loc[(train_data.Age.isnull()) & (train_data.Initial == \"Other\"), \"Age\"] =46"
   ]
  },
  {
   "cell_type": "code",
   "execution_count": null,
   "id": "5782437f",
   "metadata": {},
   "outputs": [],
   "source": [
    "# checking of the missing age foe Miss has been replaced with 22 or not?\n",
    "\n",
    "train_data.loc[(train_data.Initial == \"Miss\") & (train_data.Age == 22), [\"Initial\",\"Age\"]].head()\n"
   ]
  },
  {
   "cell_type": "code",
   "execution_count": null,
   "id": "c119f413",
   "metadata": {},
   "outputs": [],
   "source": [
    "train_data.Age.isnull().any()"
   ]
  },
  {
   "cell_type": "code",
   "execution_count": null,
   "id": "28a3b9e2",
   "metadata": {},
   "outputs": [],
   "source": [
    "fig, axes = plt.subplots(1,2,figsize = (20,10))\n",
    "train_data[train_data.Survived == 0].Age.plot.hist(ax = axes[0],bins = 20,edgecolor = \"black\", color = \"red\")\n",
    "x1 = list(range(0,85,5))\n",
    "axes[0].set_xticks(x1)\n",
    "axes[0].set_title(\"Death = 0\")\n",
    "\n",
    "\n",
    "train_data[train_data[\"Survived\"] == 1].Age.plot.hist(ax = axes[1],bins = 20, edgecolor = \"black\", color = \"green\")\n",
    "axes[1].set_xticks(range(0,85,5))\n",
    "axes[1].set_title(\"Survived = 1\")\n",
    "\n",
    "\n"
   ]
  },
  {
   "cell_type": "markdown",
   "id": "1a15b5c9",
   "metadata": {},
   "source": [
    "========================================================================"
   ]
  },
  {
   "cell_type": "markdown",
   "id": "c8aff05d",
   "metadata": {},
   "source": [
    "# SibSP Vs Survived"
   ]
  },
  {
   "cell_type": "code",
   "execution_count": null,
   "id": "c2247330",
   "metadata": {},
   "outputs": [],
   "source": [
    "pd.crosstab(train_data.SibSp, train_data.Survived, margins = True).style.background_gradient(\"summer_r\")"
   ]
  },
  {
   "cell_type": "code",
   "execution_count": null,
   "id": "eafbf9e8",
   "metadata": {},
   "outputs": [],
   "source": [
    "cross_table = pd.crosstab(train_data.SibSp, train_data.Survived, normalize = \"index\", margins = True)*100"
   ]
  },
  {
   "cell_type": "code",
   "execution_count": null,
   "id": "dd7caaa8",
   "metadata": {},
   "outputs": [],
   "source": [
    "cross_table = cross_table.applymap(\"{:.1f}%\".format)\n",
    "cross_table"
   ]
  },
  {
   "cell_type": "code",
   "execution_count": null,
   "id": "e9c8f73d",
   "metadata": {},
   "outputs": [],
   "source": [
    "fig, axes = plt.subplots(1,2,figsize = (30,10))\n",
    "sns.barplot(x = \"SibSp\", y = \"Survived\",data = train_data, ax =  axes[0])\n",
    "axes[0].set_title(\"SibSp Vs Survived in Barplot\")\n",
    "\n",
    "sns.pointplot(x = \"SibSp\", y = \"Survived\", data = train_data, ax = axes[1] )\n",
    "axes[1].set_title(\"SibSp Vs Survived in pointplot\");\n",
    "\n"
   ]
  },
  {
   "cell_type": "code",
   "execution_count": null,
   "id": "249f41e3",
   "metadata": {},
   "outputs": [],
   "source": [
    "pd.crosstab(train_data.SibSp, train_data.Pclass).style.background_gradient(\"summer_r\")"
   ]
  },
  {
   "cell_type": "code",
   "execution_count": null,
   "id": "e11943df",
   "metadata": {},
   "outputs": [],
   "source": [
    "cross_table = pd.crosstab(train_data.SibSp, train_data.Pclass, normalize = \"index\", margins = True) *100\n",
    "cross_table = cross_table.applymap(\"{:.1f}%\".format)\n",
    "cross_table"
   ]
  },
  {
   "cell_type": "code",
   "execution_count": null,
   "id": "48091d9e",
   "metadata": {},
   "outputs": [],
   "source": []
  }
 ],
 "metadata": {
  "kernelspec": {
   "display_name": "Python 3 (ipykernel)",
   "language": "python",
   "name": "python3"
  },
  "language_info": {
   "codemirror_mode": {
    "name": "ipython",
    "version": 3
   },
   "file_extension": ".py",
   "mimetype": "text/x-python",
   "name": "python",
   "nbconvert_exporter": "python",
   "pygments_lexer": "ipython3",
   "version": "3.10.11"
  }
 },
 "nbformat": 4,
 "nbformat_minor": 5
}
